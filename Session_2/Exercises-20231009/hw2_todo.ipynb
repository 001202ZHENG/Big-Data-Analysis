{
 "cells": [
  {
   "cell_type": "code",
   "execution_count": 6,
   "metadata": {},
   "outputs": [],
   "source": [
    "import re\n",
    "from pyspark import SparkConf, SparkContext"
   ]
  },
  {
   "cell_type": "code",
   "execution_count": 11,
   "metadata": {},
   "outputs": [],
   "source": [
    "conf = SparkConf()\n",
    "sc = SparkContext(conf=conf)\n"
   ]
  },
  {
   "cell_type": "code",
   "execution_count": 12,
   "metadata": {},
   "outputs": [],
   "source": [
    "data = sc.textFile(\"pg100.txt\")\n"
   ]
  },
  {
   "cell_type": "code",
   "execution_count": 13,
   "metadata": {},
   "outputs": [
    {
     "name": "stderr",
     "output_type": "stream",
     "text": [
      "                                                                                \r"
     ]
    },
    {
     "data": {
      "text/plain": [
       "['Project Gutenberg’s The Complete Works of William Shakespeare, by William Shakespeare',\n",
       " '',\n",
       " 'This eBook is for the use of anyone anywhere in the United States and']"
      ]
     },
     "execution_count": 13,
     "metadata": {},
     "output_type": "execute_result"
    }
   ],
   "source": [
    "data.take(3)"
   ]
  },
  {
   "cell_type": "code",
   "execution_count": 20,
   "metadata": {},
   "outputs": [],
   "source": [
    "words = data.flatMap(lambda line: re.split(r'[^\\w]+', line))\n"
   ]
  },
  {
   "cell_type": "code",
   "execution_count": 19,
   "metadata": {},
   "outputs": [],
   "source": [
    "lower = words.map(lambda word: word.lower())\n",
    "final = lower.filter(lambda x: x!='')\n"
   ]
  },
  {
   "cell_type": "code",
   "execution_count": 25,
   "metadata": {},
   "outputs": [
    {
     "data": {
      "text/plain": [
       "[('p', 1),\n",
       " ('g', 1),\n",
       " ('s', 1),\n",
       " ('t', 1),\n",
       " ('c', 1),\n",
       " ('w', 1),\n",
       " ('o', 1),\n",
       " ('w', 1),\n",
       " ('s', 1),\n",
       " ('b', 1)]"
      ]
     },
     "execution_count": 25,
     "metadata": {},
     "output_type": "execute_result"
    }
   ],
   "source": [
    "pairs = final.map(lambda x: (x[0],1))\n",
    "\n",
    "pairs.take(10)"
   ]
  },
  {
   "cell_type": "code",
   "execution_count": 28,
   "metadata": {},
   "outputs": [
    {
     "name": "stderr",
     "output_type": "stream",
     "text": [
      "                                                                                \r"
     ]
    },
    {
     "data": {
      "text/plain": [
       "[('t', 137583),\n",
       " ('a', 91294),\n",
       " ('s', 81540),\n",
       " ('h', 66501),\n",
       " ('i', 66128),\n",
       " ('w', 64154),\n",
       " ('m', 59268),\n",
       " ('b', 48679),\n",
       " ('o', 45011),\n",
       " ('d', 41179),\n",
       " ('f', 39741),\n",
       " ('c', 35963),\n",
       " ('l', 34660),\n",
       " ('p', 29556),\n",
       " ('n', 28977),\n",
       " ('y', 27374),\n",
       " ('g', 22482),\n",
       " ('e', 20209),\n",
       " ('r', 16021),\n",
       " ('k', 10162),\n",
       " ('u', 9466),\n",
       " ('v', 6107),\n",
       " ('_', 4790),\n",
       " ('j', 3514),\n",
       " ('q', 2617),\n",
       " ('1', 276)]"
      ]
     },
     "execution_count": 28,
     "metadata": {},
     "output_type": "execute_result"
    }
   ],
   "source": [
    "output = pairs.reduceByKey(lambda x, y: x+y).sortBy(lambda x: x[1], ascending=0)\n",
    "output.take(26)"
   ]
  },
  {
   "cell_type": "code",
   "execution_count": 5,
   "metadata": {},
   "outputs": [],
   "source": [
    "sc.stop()"
   ]
  }
 ],
 "metadata": {
  "kernelspec": {
   "display_name": "Python 3.8.5 ('base')",
   "language": "python",
   "name": "python3"
  },
  "language_info": {
   "codemirror_mode": {
    "name": "ipython",
    "version": 3
   },
   "file_extension": ".py",
   "mimetype": "text/x-python",
   "name": "python",
   "nbconvert_exporter": "python",
   "pygments_lexer": "ipython3",
   "version": "3.8.5"
  },
  "orig_nbformat": 4,
  "vscode": {
   "interpreter": {
    "hash": "fd75362e27048f1ead3b65beb4812b1da3d387150557ce53b099093c32022a5e"
   }
  }
 },
 "nbformat": 4,
 "nbformat_minor": 2
}
