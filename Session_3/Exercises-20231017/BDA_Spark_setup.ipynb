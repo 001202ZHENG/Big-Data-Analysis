{
  "nbformat": 4,
  "nbformat_minor": 0,
  "metadata": {
    "colab": {
      "provenance": [],
      "collapsed_sections": []
    },
    "kernelspec": {
      "name": "python3",
      "display_name": "Python 3"
    },
    "language_info": {
      "name": "python"
    }
  },
  "cells": [
    {
      "cell_type": "markdown",
      "source": [
        "---\n",
        "**<font color='red'> Run this notebook in google colab </font>**\n",
        "\n",
        "---"
      ],
      "metadata": {
        "id": "GXugzcm2CT3T"
      }
    },
    {
      "cell_type": "code",
      "execution_count": null,
      "metadata": {
        "id": "3ar4XxZVjnBD"
      },
      "outputs": [],
      "source": [
        "# Download and unzip spark\n",
        "!apt-get update\n",
        "!apt-get install openjdk-8-jdk-headless -qq > /dev/null\n",
        "!wget -q https://downloads.apache.org/spark/spark-3.1.3/spark-3.1.3-bin-hadoop2.7.tgz\n",
        "!tar zxvf spark-3.1.3-bin-hadoop2.7.tgz\n",
        "!pip install -q findspark\n",
        "\n",
        "# Set home paths\n",
        "import os\n",
        "os.environ[\"JAVA_HOME\"] = \"/usr/lib/jvm/java-8-openjdk-amd64\"\n",
        "os.environ[\"SPARK_HOME\"] = \"/content/spark-3.1.3-bin-hadoop2.7\"\n",
        "\n",
        "# Import pyspark\n",
        "import findspark\n",
        "findspark.init()\n",
        "from pyspark import SparkConf, SparkContext\n",
        "\n",
        "# Initialize SparkContext\n",
        "conf = SparkConf().setMaster(\"local\")\n",
        "sc = SparkContext(conf = conf)\n",
        "print(\"initialization successful!\")"
      ]
    },
    {
      "cell_type": "markdown",
      "source": [
        "# Load the data\n",
        "\n",
        "You first have to upload the 'pg100.txt' file to the colab session\n",
        "\n",
        "*Files (panel on the left) -> Upload to session storage*"
      ],
      "metadata": {
        "id": "-gdxizyEkEpH"
      }
    },
    {
      "cell_type": "code",
      "source": [
        "df = ..."
      ],
      "metadata": {
        "id": "JCBL4m7ikHPo"
      },
      "execution_count": 6,
      "outputs": []
    },
    {
      "cell_type": "code",
      "source": [],
      "metadata": {
        "id": "HMyOzzEkC5Is"
      },
      "execution_count": null,
      "outputs": []
    },
    {
      "cell_type": "markdown",
      "source": [
        "# Split sentences into words"
      ],
      "metadata": {
        "id": "Humtx4Cpkl1Y"
      }
    },
    {
      "cell_type": "code",
      "source": [
        "words = ..."
      ],
      "metadata": {
        "id": "N9LOwBEikqWR"
      },
      "execution_count": null,
      "outputs": []
    },
    {
      "cell_type": "code",
      "source": [],
      "metadata": {
        "id": "WnP2__4vC7aB"
      },
      "execution_count": null,
      "outputs": []
    },
    {
      "cell_type": "markdown",
      "source": [
        "# Clean the data (lowercase + remove empty strings)"
      ],
      "metadata": {
        "id": "vfn9EAHdktxm"
      }
    },
    {
      "cell_type": "code",
      "source": [
        "clean_words = ..."
      ],
      "metadata": {
        "id": "B6NwSKQ2kyY-"
      },
      "execution_count": null,
      "outputs": []
    },
    {
      "cell_type": "code",
      "source": [],
      "metadata": {
        "id": "gqHgKY_RC9dV"
      },
      "execution_count": null,
      "outputs": []
    },
    {
      "cell_type": "markdown",
      "source": [
        "# Count number of occurances"
      ],
      "metadata": {
        "id": "FqNoXP8Pk2gF"
      }
    },
    {
      "cell_type": "code",
      "source": [
        "counter = ..."
      ],
      "metadata": {
        "id": "96YgaBc4k4q8"
      },
      "execution_count": null,
      "outputs": []
    },
    {
      "cell_type": "code",
      "source": [],
      "metadata": {
        "id": "4GcnDFflIA3A"
      },
      "execution_count": null,
      "outputs": []
    }
  ]
}