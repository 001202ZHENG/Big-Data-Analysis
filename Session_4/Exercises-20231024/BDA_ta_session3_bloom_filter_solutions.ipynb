{
  "cells": [
    {
      "cell_type": "code",
      "execution_count": null,
      "metadata": {
        "id": "DXp-9ByUkH1P"
      },
      "outputs": [],
      "source": [
        "#!pip install pyhash"
      ]
    },
    {
      "cell_type": "code",
      "execution_count": 5,
      "metadata": {
        "id": "PiwF1fCrkRTR"
      },
      "outputs": [],
      "source": [
        "import pyhash\n",
        "import numpy as np"
      ]
    },
    {
      "cell_type": "markdown",
      "metadata": {
        "id": "fCZ-jRs1kaHM"
      },
      "source": [
        "#### 1. Start by creating a bit vector bit_vector of size 20 and initialize it to all zeros."
      ]
    },
    {
      "cell_type": "code",
      "execution_count": null,
      "metadata": {
        "colab": {
          "base_uri": "https://localhost:8080/"
        },
        "id": "RKOI1_7BjAYf",
        "outputId": "ed539b1d-0190-4112-ed3f-5218e9c807ed"
      },
      "outputs": [
        {
          "name": "stdout",
          "output_type": "stream",
          "text": [
            "[0, 0, 0, 0, 0, 0, 0, 0, 0, 0, 0, 0, 0, 0, 0, 0, 0, 0, 0, 0]\n"
          ]
        }
      ],
      "source": [
        "bit_vector = [0] * 20\n",
        "print(bit_vector)"
      ]
    },
    {
      "cell_type": "markdown",
      "metadata": {
        "id": "fbeygZ81klw2"
      },
      "source": [
        "#### 2. Define two hash function first_hasher and second_hasher. For example, you can istall the package pyhash: (pypi.org/project/pyhash/) and use MurmurHash and FNV (Fowler-Noll-Vo) hash algorithms."
      ]
    },
    {
      "cell_type": "code",
      "execution_count": 6,
      "metadata": {
        "id": "YT7tUH_skEqH"
      },
      "outputs": [],
      "source": [
        "first_hasher = pyhash.fnv1_32()\n",
        "second_hasher = pyhash.murmur1_32()"
      ]
    },
    {
      "cell_type": "markdown",
      "metadata": {
        "id": "eeWsWpe9lZaz"
      },
      "source": [
        "#### 3. Calculate the output of first_hasher and second_hasher modulus 20 for Pikachu and Charmander and print them."
      ]
    },
    {
      "cell_type": "code",
      "execution_count": null,
      "metadata": {
        "colab": {
          "base_uri": "https://localhost:8080/"
        },
        "id": "bOeQFioqk8Ba",
        "outputId": "e4193066-0b59-4752-b9d4-18a98823ca1e"
      },
      "outputs": [
        {
          "name": "stdout",
          "output_type": "stream",
          "text": [
            "FNV hash output for Pikachu: 19\n",
            "Murmur hash output for Pikachu: 4\n",
            "FNV hash output for Charmander: 3\n",
            "Murmur hash output for Charmander: 15\n"
          ]
        }
      ],
      "source": [
        "first_hash_pikachu = first_hasher(\"Pikachu\") % 20\n",
        "second_hash_pikachu = second_hasher(\"Pikachu\") % 20\n",
        "\n",
        "first_hash_charmander = first_hasher(\"Charmander\") % 20\n",
        "second_hash_charmander = second_hasher(\"Charmander\") % 20\n",
        "\n",
        "print(f\"FNV hash output for Pikachu: {first_hash_pikachu}\")\n",
        "print(f\"Murmur hash output for Pikachu: {second_hash_pikachu}\")\n",
        "print(f\"FNV hash output for Charmander: {first_hash_charmander}\")\n",
        "print(f\"Murmur hash output for Charmander: {second_hash_charmander}\")"
      ]
    },
    {
      "cell_type": "markdown",
      "metadata": {
        "id": "zbiK6n7TmS9c"
      },
      "source": [
        "#### 4 .Flip the bits of bit_vector in the corresponding locations from the above hashes."
      ]
    },
    {
      "cell_type": "code",
      "execution_count": null,
      "metadata": {
        "colab": {
          "base_uri": "https://localhost:8080/"
        },
        "id": "3vstsZMunX33",
        "outputId": "6db12308-2aa4-471c-acc4-2f008bce76a3"
      },
      "outputs": [
        {
          "name": "stdout",
          "output_type": "stream",
          "text": [
            "[0, 0, 0, 1, 1, 0, 0, 0, 0, 0, 0, 0, 0, 0, 0, 1, 0, 0, 0, 1]\n"
          ]
        }
      ],
      "source": [
        "bit_vector[first_hash_pikachu] = 1\n",
        "bit_vector[second_hash_pikachu] = 1\n",
        "bit_vector[first_hash_charmander] = 1\n",
        "bit_vector[second_hash_charmander] = 1\n",
        "print(bit_vector)"
      ]
    },
    {
      "cell_type": "code",
      "execution_count": null,
      "metadata": {
        "id": "QhNXI15OoL7j"
      },
      "outputs": [],
      "source": [
        "# idx = [first_hash_pikachu, second_hash_pikachu, first_hash_charmander, second_hash_charmander]\n",
        "# bit_vector_np = np.array(bit_vector)\n",
        "# bit_vector_np[idx] = 55\n",
        "# print(bit_vector_np)"
      ]
    },
    {
      "cell_type": "markdown",
      "metadata": {
        "id": "XHW4-KIDozYI"
      },
      "source": [
        "#### 5. A wild Bulbasaur appears! Use your filter to check if Bulbasaur have been already caught. If not, update the filter."
      ]
    },
    {
      "cell_type": "code",
      "execution_count": null,
      "metadata": {
        "colab": {
          "base_uri": "https://localhost:8080/"
        },
        "id": "LRN6gHwnnZuG",
        "outputId": "95f16ce4-eb72-4ddb-985b-c8010960073b"
      },
      "outputs": [
        {
          "name": "stdout",
          "output_type": "stream",
          "text": [
            "FNV hash output for Bulbasaur: 3\n",
            "Murmur hash output for Bulbasaur: 16\n"
          ]
        }
      ],
      "source": [
        "# Calculate the hashed values for \"Bulbasaur\"\n",
        "first_hash_bulbasaur = first_hasher(\"Bulbasaur\") % 20\n",
        "second_hash_bulbasaur = second_hasher(\"Bulbasaur\") % 20\n",
        "\n",
        "print(f\"FNV hash output for Bulbasaur: {first_hash_bulbasaur}\")\n",
        "print(f\"Murmur hash output for Bulbasaur: {second_hash_bulbasaur}\")"
      ]
    },
    {
      "cell_type": "code",
      "execution_count": null,
      "metadata": {
        "colab": {
          "base_uri": "https://localhost:8080/"
        },
        "id": "5qJNsabAovtj",
        "outputId": "90c29c62-060b-4ecb-8c2f-dded5d89a6bb"
      },
      "outputs": [
        {
          "name": "stdout",
          "output_type": "stream",
          "text": [
            "1\n",
            "0\n"
          ]
        }
      ],
      "source": [
        "# Check the corresponding elements in bit_vector\n",
        "print(bit_vector[first_hash_bulbasaur])\n",
        "print(bit_vector[second_hash_bulbasaur])"
      ]
    },
    {
      "cell_type": "code",
      "execution_count": null,
      "metadata": {
        "id": "zs9oU1RYovrL"
      },
      "outputs": [],
      "source": [
        "# We caught a new pokemon - update the pokedex\n",
        "bit_vector[first_hash_bulbasaur] = 1\n",
        "bit_vector[second_hash_bulbasaur] = 1"
      ]
    },
    {
      "cell_type": "code",
      "execution_count": null,
      "metadata": {
        "colab": {
          "base_uri": "https://localhost:8080/"
        },
        "id": "eaXUSOjxovo7",
        "outputId": "1a8f7990-0e94-42d1-a98a-d1e039069311"
      },
      "outputs": [
        {
          "name": "stdout",
          "output_type": "stream",
          "text": [
            "[0, 0, 0, 1, 1, 0, 0, 0, 0, 0, 0, 0, 0, 0, 0, 1, 1, 0, 0, 1]\n"
          ]
        }
      ],
      "source": [
        "# Check new state of bit_vector\n",
        "print(bit_vector)"
      ]
    },
    {
      "cell_type": "markdown",
      "metadata": {
        "id": "uyqxxlHXrEJv"
      },
      "source": [
        "#### 6. Assume that you have caught the following pokemons... Write a loop which allows you to update the filter. Print it out. What do you observe?"
      ]
    },
    {
      "cell_type": "code",
      "execution_count": null,
      "metadata": {
        "id": "dpc6-67qqzcA"
      },
      "outputs": [],
      "source": [
        "caught_pokemon = [\"Bulbasaur\", \"Ivysaur\", \"Venusaur\", \"Charmander\", \"Charmeleon\", \"Charizard\",  \"Squirtle\", \"Wartortle\", \"Blastoise\", \"Caterpie\", \"Metapod\", \"Butterfree\", \"Weedle\",    \"Kakuna\", \"Beedrill\", \"Pidgeotto\", \"Pidgeot\", \"Rattata\", \"Raticate\", \"Spearow\", \"Fearow\",    \"Ekans\", \"Arbok\", \"Pikachu\", \"Raichu\", \"Sandshrew\", \"Sandslash\", \"Nidoran (female)\", \"Nidorina\",   \"Nidoqueen\", \"Nidoran (male)\", \"Nidorino\", \"Nidoking\", \"Clefairy\", \"Clefable\", \"Vulpix\",   \"Ninetales\", \"Jigglypuff\", \"Wigglytuff\", \"Zubat\", \"Golbat\", \"Oddish\", \"Gloom\", \"Vileplume\",    \"Paras\", \"Parasect\", \"Venonat\", \"Venomoth\", \"Diglet\", \"Dugtrio\", \"Meowth\", \"Persian\", \"Psyduck\",   \"Golduck\", \"Mankey\", \"Primeape\", \"Growlithe\", \"Arcanine\", \"Poliwag\", \"Poliwhirl\", \"Poliwrath\",  \"Abra\", \"Kadabra\", \"Alakazam\", \"Machop\", \"Machoke\", \"Machamp\", \"Bellsprout\", \"Weepinbell\",  \"Victreebel\", \"Tentacool\", \"Tentacruel\" ]"
      ]
    },
    {
      "cell_type": "code",
      "execution_count": null,
      "metadata": {
        "id": "mdFSV5pTr1a8"
      },
      "outputs": [],
      "source": [
        "# Re-initialise the pokedex\n",
        "pokedex = [0] * 20"
      ]
    },
    {
      "cell_type": "code",
      "execution_count": null,
      "metadata": {
        "colab": {
          "base_uri": "https://localhost:8080/"
        },
        "id": "rF1kqcM6r1WT",
        "outputId": "c9e2f3d1-f5fc-4bab-b0b9-e5d007b7b463"
      },
      "outputs": [
        {
          "name": "stdout",
          "output_type": "stream",
          "text": [
            "[1, 1, 1, 1, 1, 1, 1, 1, 1, 1, 1, 1, 1, 1, 1, 1, 1, 1, 1, 1]\n"
          ]
        }
      ],
      "source": [
        "# Update the bloom filter pokedex with all pokemon you have caught\n",
        "for pokemon in caught_pokemon:\n",
        "  first_hash = first_hasher(pokemon) % 20\n",
        "  second_hash = second_hasher(pokemon) % 20\n",
        "\n",
        "  pokedex[first_hash] = 1\n",
        "  pokedex[second_hash] = 1\n",
        "\n",
        "print(pokedex)"
      ]
    },
    {
      "cell_type": "markdown",
      "metadata": {
        "id": "dXEQ7_8us4yO"
      },
      "source": [
        "#### 7. Assuming that the total number of Pokemon one can encounter is 151, find how big your Bloom filter needs to be? Determine also how many hash functions we should use."
      ]
    },
    {
      "cell_type": "code",
      "execution_count": null,
      "metadata": {
        "id": "PdlDtEJDufZO"
      },
      "outputs": [],
      "source": [
        "def p_false_positive(k: int, n: int, m: int) -> float:\n",
        "    return (1 - np.exp(-k*m/n)) ** k\n",
        "\n",
        "def n_optimal_hash(n: int, m: int) -> float:\n",
        "    return n/m * np.log(2)"
      ]
    },
    {
      "cell_type": "code",
      "execution_count": null,
      "metadata": {
        "colab": {
          "base_uri": "https://localhost:8080/"
        },
        "id": "4unJDKSVs4qP",
        "outputId": "fec67a00-872c-4816-f4ba-4a2a27e9bbbf"
      },
      "outputs": [
        {
          "data": {
            "text/plain": [
              "6.83887667512759e-05"
            ]
          },
          "execution_count": 101,
          "metadata": {},
          "output_type": "execute_result"
        }
      ],
      "source": [
        "k = 15    # number of hash fucntions\n",
        "n = 3000   # size of bloom filter\n",
        "m = 150  # number of pokemon already caught\n",
        "\n",
        "p_false_positive(k, n, m)"
      ]
    },
    {
      "cell_type": "code",
      "execution_count": null,
      "metadata": {
        "colab": {
          "base_uri": "https://localhost:8080/"
        },
        "id": "7Bgy82AVs4n8",
        "outputId": "41ac8460-6763-4c04-b5ed-c279b336114f"
      },
      "outputs": [
        {
          "data": {
            "text/plain": [
              "13.862943611198906"
            ]
          },
          "execution_count": 102,
          "metadata": {},
          "output_type": "execute_result"
        }
      ],
      "source": [
        "n_optimal_hash(n, m)"
      ]
    },
    {
      "cell_type": "markdown",
      "metadata": {
        "id": "8IAp3646wNhU"
      },
      "source": [
        "n = 3000 -> p false positive == ~1% (good enough) \\\n",
        "for n = 3000 and m = 150, best k=14"
      ]
    },
    {
      "cell_type": "markdown",
      "metadata": {
        "id": "968nUUsjwdli"
      },
      "source": [
        "#### 8. We can try you new Bloom filter with the following set:"
      ]
    },
    {
      "cell_type": "code",
      "execution_count": 1,
      "metadata": {
        "id": "Elp0jEWBwb-u"
      },
      "outputs": [],
      "source": [
        "caught_pokemon = [\"Bulbasaur\", \"Ivysaur\", \"Venusaur\", \"Charmander\", \"Charmeleon\", \"Charizard\",  \"Squirtle\", \"Wartortle\", \"Blastoise\", \"Caterpie\", \"Metapod\", \"Butterfree\", \"Weedle\", \"Kakuna\", \"Beedrill\", \"Pidgeotto\", \"Pidgeot\", \"Rattata\", \"Raticate\", \"Spearow\", \"Fearow\", \"Ekans\", \"Arbok\", \"Pikachu\", \"Raichu\", \"Sandshrew\", \"Sandslash\", \"Nidoran (female)\", \"Nidorina\", \"Nidoqueen\", \"Nidoran (male)\", \"Nidorino\", \"Nidoking\", \"Clefairy\", \"Clefable\", \"Vulpix\",\"Ninetales\", \"Jigglypuff\", \"Wigglytuff\", \"Zubat\", \"Golbat\", \"Oddish\", \"Gloom\", \"Vileplume\", \"Paras\", \"Parasect\", \"Venonat\", \"Venomoth\", \"Diglet\", \"Dugtrio\", \"Meowth\", \"Persian\", \"Psyduck\", \"Golduck\", \"Mankey\", \"Primeape\", \"Growlithe\", \"Arcanine\", \"Poliwag\", \"Poliwhirl\", \"Poliwrath\", \"Abra\", \"Kadabra\", \"Alakazam\", \"Machop\", \"Machoke\", \"Machamp\", \"Bellsprout\", \"Weepinbell\",\"Victreebel\", \"Tentacool\", \"Tentacruel\", \"Geodude\", \"Graveler\", \"Golem\", \"Ponyta\", \"Rapidash\", \"Slowpoke\", \"Slowbro\", \"Magnemite\", \"Magneton\", \"Farfetc'd\", \"Doduo\", \"Dodrio\", \"Seel\",\"Dewgong\", \"Grimer\", \"Muk\", \"Shellder\", \"Cloyster\", \"Gastly\", \"Haunter\", \"Gengar\", \"Onyx\", \"Drowzee\", \"Hypno\", \"Krabby\", \"Kingler\", \"Voltorb\", \"Electrode\", \"Exeggcute\", \"Exeggutor\",\"Cubone\", \"Marowak\", \"Hitmonlee\", \"Hitmonchan\", \"Lickitung\", \"Koffing\", \"Weezing\", \"Rhyhorn\", \"Rhydon\", \"Chansey\", \"Tangela\", \"Kangaskhan\", \"Horsea\", \"Seadra\", \"Goldeen\", \"Seaking\",\"Staryu\", \"Starmie\", \"Mr. Mime\", \"Scyther\", \"Jynx\", \"Electabuzz\", \"Magmar\", \"Pinsir\", \"Tauros\", \"Magikarp\", \"Gyrados\", \"Lapras\", \"Ditto\", \"Eevee\", \"Vaporeon\", \"Jolteon\", \"Flareon\", \"Porygon\", \"Omanyte\", \"Omastar\", \"Kabuto\", \"Kabutops\", \"Aerodactyl\", \"Snorlax\", \"Articuno\", \"Zapdos\",\"Moltres\", \"Dratini\", \"Dragonair\", \"Dragonite\", \"Mewtwo\", \"Mew\" ]"
      ]
    },
    {
      "cell_type": "code",
      "execution_count": 2,
      "metadata": {
        "id": "Dob-KlPLw0YX"
      },
      "outputs": [],
      "source": [
        "K = 2\n",
        "N = 3000\n",
        "M = len(set(caught_pokemon))"
      ]
    },
    {
      "cell_type": "code",
      "execution_count": 7,
      "metadata": {
        "id": "lPIOKxlpwb6P"
      },
      "outputs": [],
      "source": [
        "# Initialize pokedex\n",
        "pokedex = [0] * N\n",
        "\n",
        "# Update the bloom filter pokedex with all pokemon you have caught\n",
        "for pokemon in caught_pokemon:\n",
        "  first_hash = first_hasher(pokemon) % N\n",
        "  second_hash = second_hasher(pokemon) % N\n",
        "\n",
        "  pokedex[first_hash] = 1\n",
        "  pokedex[second_hash] = 1\n",
        "\n",
        "# print(pokedex)"
      ]
    },
    {
      "cell_type": "code",
      "execution_count": null,
      "metadata": {
        "colab": {
          "base_uri": "https://localhost:8080/"
        },
        "id": "_Kkjpjgzwb3_",
        "outputId": "63c57e45-932c-4e24-dff9-ed602c03104a"
      },
      "outputs": [
        {
          "name": "stdout",
          "output_type": "stream",
          "text": [
            "0\n",
            "0\n"
          ]
        }
      ],
      "source": [
        "# Calculate the hashed values for new pokemon\n",
        "\n",
        "pokemon = 'Pidgey'\n",
        "\n",
        "first_hash_pidgey = first_hasher(pokemon) % N\n",
        "second_hash_pidgey = second_hasher(pokemon) % N\n",
        "\n",
        "print(pokedex[first_hash_pidgey])\n",
        "print(pokedex[second_hash_pidgey])"
      ]
    }
  ],
  "metadata": {
    "colab": {
      "provenance": []
    },
    "kernelspec": {
      "display_name": "Python 3.8.5 ('base')",
      "language": "python",
      "name": "python3"
    },
    "language_info": {
      "codemirror_mode": {
        "name": "ipython",
        "version": 3
      },
      "file_extension": ".py",
      "mimetype": "text/x-python",
      "name": "python",
      "nbconvert_exporter": "python",
      "pygments_lexer": "ipython3",
      "version": "3.8.5"
    },
    "vscode": {
      "interpreter": {
        "hash": "fd75362e27048f1ead3b65beb4812b1da3d387150557ce53b099093c32022a5e"
      }
    }
  },
  "nbformat": 4,
  "nbformat_minor": 0
}
