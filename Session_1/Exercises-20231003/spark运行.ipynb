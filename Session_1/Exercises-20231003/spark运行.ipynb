{
 "cells": [
  {
   "cell_type": "code",
   "execution_count": 2,
   "metadata": {},
   "outputs": [
    {
     "name": "stderr",
     "output_type": "stream",
     "text": [
      "23/10/03 14:38:37 WARN Utils: Your hostname, yongyuangendangzouxinzhongyoudangshiyelixiang.local resolves to a loopback address: 127.0.0.1; using 192.168.40.67 instead (on interface en0)\n",
      "23/10/03 14:38:37 WARN Utils: Set SPARK_LOCAL_IP if you need to bind to another address\n",
      "Setting default log level to \"WARN\".\n",
      "To adjust logging level use sc.setLogLevel(newLevel). For SparkR, use setLogLevel(newLevel).\n",
      "23/10/03 14:38:38 WARN NativeCodeLoader: Unable to load native-hadoop library for your platform... using builtin-java classes where applicable\n",
      "                                                                                \r"
     ]
    },
    {
     "name": "stdout",
     "output_type": "stream",
     "text": [
      "3.14186648\n"
     ]
    }
   ],
   "source": [
    "import findspark\n",
    "findspark.init()\n",
    "\n",
    "import pyspark\n",
    "import random\n",
    "\n",
    "sc = pyspark.SparkContext(appName=\"Pi\")\n",
    "num_samples = 100000000\n",
    "\n",
    "def inside(p):     \n",
    "  x, y = random.random(), random.random()\n",
    "  return x*x + y*y < 1\n",
    "\n",
    "count = sc.parallelize(range(0, num_samples)).filter(inside).count()\n",
    "\n",
    "pi = 4 * count / num_samples\n",
    "print(pi)\n",
    "\n",
    "sc.stop()"
   ]
  },
  {
   "cell_type": "code",
   "execution_count": 5,
   "metadata": {},
   "outputs": [
    {
     "name": "stdout",
     "output_type": "stream",
     "text": [
      "Approximation of (1.01)^500: 144.773\n",
      "Approximation of (1.05)^1000: 1.5463189207319925e+21\n",
      "Approximation of (0.9)^40: 0.015\n"
     ]
    }
   ],
   "source": [
    "# Q1__Hash function（c should be multiples of 15）\n",
    "\n",
    "\n",
    "#02\n",
    "import math\n",
    "\n",
    "# 计算 (1.01)^500 的近似值\n",
    "result1 = round((1.01)**500,3)\n",
    "\n",
    "# 计算 (1.05)^1000 的近似值\n",
    "result2 = round((1.05)**1000,3)\n",
    "\n",
    "# 计算 (0.9)^40 的近似值\n",
    "result3 = round((0.9)**40,3)\n",
    "\n",
    "# 输出结果\n",
    "print(\"Approximation of (1.01)^500:\", result1)\n",
    "print(\"Approximation of (1.05)^1000:\", result2)\n",
    "print(\"Approximation of (0.9)^40:\", result3)\n"
   ]
  },
  {
   "cell_type": "code",
   "execution_count": 15,
   "metadata": {},
   "outputs": [
    {
     "name": "stdout",
     "output_type": "stream",
     "text": [
      "\n",
      " 1.105 \n",
      " 0.905 \n",
      " 6.333\n"
     ]
    }
   ],
   "source": [
    "#03  Taylor expansion: e^x ≈ 1 + x + (x^2 / 2!) + (x^3 / 3!) + ...\n",
    "\n",
    "def taylor_3(x):\n",
    "    return 1 + x + (x**2 / math.factorial(2)) + (x**3 / math.factorial(3))\n",
    "\n",
    "result_1 = round(taylor_3(1/10),3)\n",
    "result_2 = round(taylor_3(1/-10),3)\n",
    "result_3 = round(taylor_3(2),3)\n",
    "print(\"\\n\",result_1,\"\\n\",result_2,\"\\n\",result_3)"
   ]
  },
  {
   "cell_type": "code",
   "execution_count": 21,
   "metadata": {},
   "outputs": [
    {
     "name": "stdout",
     "output_type": "stream",
     "text": [
      "Approximation of e^0.1 using 20 terms: 2.718282\n"
     ]
    }
   ],
   "source": [
    "#方法二，输出错误，循环有问题\n",
    "\n",
    "\n",
    "def taylor_exp(x, n):\n",
    "    result = 1  # 初始化结果为第一项\n",
    "    term = 1  # 初始化第一项的值为1\n",
    "    \n",
    "    for i in range(1, n):\n",
    "        term *= x / i  # 计算下一项的值\n",
    "        result += term  # 将下一项加到结果中\n",
    "    \n",
    "    return result\n",
    "\n",
    "# 设置要计算的 x 和展开的项数 n\n",
    "x = 0.1  # 例如，计算 e^1\n",
    "n = 20  # 可以根据需要增加项数以提高近似精度\n",
    "\n",
    "# 调用函数计算近似值\n",
    "approximation = taylor_exp(1, 10)\n",
    "\n",
    "# 打印结果\n",
    "print(\"Approximation of e^{} using {} terms: {:.6f}\".format(x, n, approximation))\n"
   ]
  }
 ],
 "metadata": {
  "kernelspec": {
   "display_name": "Python 3.8.5 ('base')",
   "language": "python",
   "name": "python3"
  },
  "language_info": {
   "codemirror_mode": {
    "name": "ipython",
    "version": 3
   },
   "file_extension": ".py",
   "mimetype": "text/x-python",
   "name": "python",
   "nbconvert_exporter": "python",
   "pygments_lexer": "ipython3",
   "version": "3.8.5"
  },
  "orig_nbformat": 4,
  "vscode": {
   "interpreter": {
    "hash": "fd75362e27048f1ead3b65beb4812b1da3d387150557ce53b099093c32022a5e"
   }
  }
 },
 "nbformat": 4,
 "nbformat_minor": 2
}
