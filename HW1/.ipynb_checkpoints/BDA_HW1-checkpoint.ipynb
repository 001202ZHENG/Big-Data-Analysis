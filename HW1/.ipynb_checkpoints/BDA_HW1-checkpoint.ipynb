{
 "cells": [
  {
   "cell_type": "markdown",
   "metadata": {},
   "source": [
    "# Problem 1"
   ]
  },
  {
   "cell_type": "markdown",
   "metadata": {},
   "source": [
    "### 1.\n",
    "Given the definition of the events \\(A\\), \\(B\\), and \\(C\\):\n",
    "\n",
    "\\begin{align*}\n",
    "A &= \\{ h(x) \\neq h(y) \\} \\\\\n",
    "B &= \\{ h(y) \\neq h(z) \\} \\\\\n",
    "C &= \\{ h(x) \\neq h(z) \\}\n",
    "\\end{align*}\n",
    "\n",
    "\n",
    "\n",
    "\n",
    "\\\n",
    "\\begin{align*}\n",
    "p_1 &= P(A^c \\cap B^c \\cap C) \\\\\n",
    "&= P(h(x) = h(y) \\cap h(y) = h(z) \\cap h(x) \\neq h(z)) \\\\\n",
    "&= 0 \\\\\n",
    "p_2 &= P(A^c \\cap B \\cap C^c) \\\\\n",
    "&= P(h(x) = h(y) \\cap h(y) \\neq h(z) \\cap h(x) = h(z)) \\\\\n",
    "&= 0 \\\\\n",
    "p_4 &= P(A \\cap B^c \\cap C^c) \\\\\n",
    "&= P(h(x) \\neq h(y) \\cap h(y) = h(z) \\cap h(x) = h(z)) \\\\\n",
    "&= 0\n",
    "\\end{align*}\n",
    "\n",
    "\n",
    "Thus, based on the definitions of the events and their probabilistic interpretations, we can conclude that $ p_1 = p_2 = p_4 = 0 $.\n"
   ]
  },
  {
   "cell_type": "markdown",
   "metadata": {},
   "source": [
    "### 2.\n",
    "Based on the given table:\n",
    "\n",
    "$P(A)$ is the sum of probabilities associated with events where event $A$ occurs. \n",
    "Summing up $p_4, p_5, p_6,p_7$, , we get the total probability of event $A$ \n",
    "$P(A) = p_5 + p_6 + p_7$.\n",
    "  \n",
    "For $P(B)$, we sum the probabilities $p_2, p_3, p_6,p_7$ where event $B$ occurs.\n",
    "$P(B) = p_3 + p_6 + p_7$.\n",
    "  \n",
    "For $P(C)$, we add the probabilities $p_1, p_3, p_5,p_7$ where event $C$ occurs. \n",
    "$P(C) = p_3 + p_5 + p_7$.\n"
   ]
  },
  {
   "cell_type": "markdown",
   "metadata": {},
   "source": [
    "### 3.\n",
    "Conclusion\n",
    "\n",
    "1. $ P(C) = p_3 + p_5 + p_7 $.\n",
    "2. $ P(A) + P(B) = p_3 + p_5 + 2p_6 + 2p_7 $.\n",
    "\n",
    "It's evident from Equation 4 that the combined probability of events $ A $ and $ B $ exceeds or is equal to that of event $ C $. \n",
    "\n",
    "$ P(A) + P(B) \\geq P(C) $\n",
    "\n",
    "$ P[h(x) \\neq h(y)] + P[h(y) \\neq h(z)] \\geq P[h(x) \\neq h(z)] $ \n"
   ]
  },
  {
   "cell_type": "code",
   "execution_count": null,
   "metadata": {},
   "outputs": [],
   "source": []
  },
  {
   "cell_type": "markdown",
   "metadata": {},
   "source": [
    "# Problem 2"
   ]
  },
  {
   "cell_type": "markdown",
   "metadata": {},
   "source": [
    "### 1.\n",
    "**Linearity of Expectation:**\n",
    "\n",
    "First, let's compute the expected number of false positives for a given hash function $(g_i)$.\n",
    "\n",
    "\\begin{align*}\n",
    "E[|T \\cap W_i|] &= \\sum_{z_i \\in A} P(z_i \\text{ is a false positive under } g_i) \\\\\n",
    "\\text{where, } P(z_i \\text{ is a false positive under } g_i) &= P(g(z) = g(z_i) \\text{ and } d(z, z_i) > c\\lambda)\n",
    "\\end{align*}\n",
    "\n",
    "\n",
    "These events are not independent due to the properties of LSH functions. In LSH, the probability of collision is higher for closer points. Thus, the probability that two distant points collide (false positive) is typically much lower than the probability that two close points collide.\n",
    "\n",
    "\n",
    "\n",
    "**Use of Markov's Inequality:**\n",
    "\n",
    "To show that the sum over all hash functions is less than $3L$ with probability at least $\\frac{2}{3}$, we can use Markov's inequality:\n",
    "\n",
    "\\begin{align*}\n",
    "P(X \\geq a) &\\leq \\frac{E[X]}{a} \\\\\n",
    "{}\n",
    "X &= \\sum_{i=1}^{L} |T \\cap W_i| \\text{ and } a = 3L.\n",
    "\\end{align*}\n",
    "\n",
    "Assuming we find that:\n",
    "\\begin{align*}\n",
    "E[X] &= kL \\text{ where } k < 3, \\\n",
    "P\\left(\\sum_{i=1}^{L} |T \\cap W_i| \\geq 3L\\right) &\\leq \\frac{kL}{3L} = \\frac{k}{3}\n",
    "\\end{align*}\n",
    "\n",
    "For the probability to be less than $\\frac{1}{3}$, k must be less than 1\n",
    "\n",
    "Given that:\n",
    "$P(g(x) = g(z)) = \\frac{1}{n} \\text{ for any } x \\text{ such that } d(x, z) > c\\lambda$\n",
    "\n",
    "We could easily deduce that k is less than 1 when n is bigger than 1.\n"
   ]
  },
  {
   "cell_type": "markdown",
   "metadata": {},
   "source": [
    "### 2.\n",
    "$ P(g(x) = g(z)) = \\frac{1}{n^\\rho} $ for any $ x $ such that $ d(x, z) \\leq \\lambda $ for some $ \\rho < 1 $, \n",
    "the probability that $ g_j(x^*) = g_j(z) $ for any particular $ j $ is at least $ \\frac{1}{n^\\rho} $ \n",
    "Thus,the probability that $ g_j(x^*) \\neq g_j(z) $ for any particular $ j $ is at most $ 1 - \\frac{1}{n^\\rho} $, \n",
    "and the probability that $ g_j(x^*) \\neq g_j(z) $ for all $ j $ is at most $ (1 - \\frac{1}{n^\\rho})^L $\n",
    "\n",
    "Using  $ L = n^\\rho $ :\n",
    "\n",
    "$\n",
    "P[ g_j(x^*) \\neq g_j(z) \\, \\forall \\, 1 \\leq j \\leq L] \\leq (1 - \\frac{1}{L})^L < \\frac{1}{e}\n",
    "$\n",
    "Using the limit-based definition of the exponential function, specifically $ e^x = \\lim_{m \\to \\infty} (1 + \\frac{x}{m})^m $. \n",
    "When $ m $ is a finite value greater than or equal to 1, this expression serves as a lower boundary for the series' convergence."
   ]
  },
  {
   "cell_type": "markdown",
   "metadata": {},
   "source": [
    "### 3. To be continued\n"
   ]
  },
  {
   "cell_type": "markdown",
   "metadata": {},
   "source": []
  },
  {
   "cell_type": "markdown",
   "metadata": {},
   "source": [
    "# Problem 3"
   ]
  },
  {
   "cell_type": "code",
   "execution_count": 5,
   "metadata": {},
   "outputs": [
    {
     "name": "stdout",
     "output_type": "stream",
     "text": [
      "{'ion', 'on ', 'wor', 'tio', 'n w', 'Thi', 'fec', 'nct', 'ect', 'erf', 'ks ', ' wo', 'his', ' fu', 'unc', 'cti', 'rfe', 'tly', 'fun', 'ork', 'per', 'ctl', 'is ', ' pe', 's f', 'rks', 's p'}\n"
     ]
    }
   ],
   "source": [
    "par1 = \"flying fish flew by the space station\"\n",
    "par2 = \"we will not allow you to bring your pet armadillo along\"\n",
    "\n",
    "#1. Split text into elements:a function shingles to convert the input text into elements of three characters.\n",
    "def shingles(text:str) ->set:\n",
    "    n=3 #shingles into elements of 3 characters\n",
    "    shingle_set =[]\n",
    "    for i in range(len(text)-n+1):\n",
    "        shingle_set.append(text[i:i+n])\n",
    "    return set(shingle_set)\n",
    "\n",
    "print(shingles('This function works perfectly'))\n"
   ]
  },
  {
   "cell_type": "code",
   "execution_count": 7,
   "metadata": {},
   "outputs": [
    {
     "name": "stdout",
     "output_type": "stream",
     "text": [
      "jaccard distance  0.4\n"
     ]
    }
   ],
   "source": [
    "#2.Calculate Jaccard distance: \n",
    "a = set(\"I have a cat\".split())\n",
    "b = set(\"I have a dog\".split())\n",
    "\n",
    "def Jaccard_distance(set_1:set, set_2:set)    ->float:\n",
    "    return 1-(len(set_1.intersection(set_2))/len(set_1.union(set_2)))\n",
    "\n",
    "print(\"jaccard distance \",Jaccard_distance(a,b))"
   ]
  },
  {
   "cell_type": "code",
   "execution_count": 19,
   "metadata": {},
   "outputs": [
    {
     "name": "stdout",
     "output_type": "stream",
     "text": [
      "0.1111\n"
     ]
    }
   ],
   "source": [
    "a = 'I Have A cat'\n",
    "b = 'I have a dog'\n",
    "\n",
    "def similarity_minhash(par1:str, par2:str) -> float:\n",
    "    try:\n",
    "\n",
    "        shingles_1 = set(shingles(par1))\n",
    "        shingles_2 = set(shingles(par2))\n",
    "        \n",
    "        return round(1-Jaccard_distance(shingles_1, shingles_2),4)\n",
    "    \n",
    "    except Exception as e:\n",
    "        print(f\"An error occurred: {e}\")\n",
    "        return 0.0  \n",
    "\n",
    "# Test out the function\n",
    "print(similarity_minhash(a, b))"
   ]
  },
  {
   "cell_type": "code",
   "execution_count": 20,
   "metadata": {},
   "outputs": [
    {
     "name": "stdout",
     "output_type": "stream",
     "text": [
      "0.5385\n"
     ]
    }
   ],
   "source": [
    "#lowercase before calling \n",
    "print(similarity_minhash(a.lower(), b.lower()))"
   ]
  },
  {
   "cell_type": "code",
   "execution_count": 21,
   "metadata": {},
   "outputs": [
    {
     "name": "stdout",
     "output_type": "stream",
     "text": [
      "0.8378\n",
      "0.7179\n",
      "0.8684\n",
      "0.6098\n",
      "0.5556\n",
      "0.4681\n"
     ]
    }
   ],
   "source": [
    "text_1 = 'trump is the 45th president of USA'\n",
    "text_2 = 'trump is not the 45th president of USA'\n",
    "text_3 = 'trump is not the 45th president of CN'\n",
    "text_4 = 'trump will the 47th president of USA'\n",
    "print(similarity_minhash(text_1,text_2))\n",
    "print(similarity_minhash(text_1,text_3))\n",
    "print(similarity_minhash(text_2,text_3))\n",
    "print(similarity_minhash(text_1,text_4))\n",
    "print(similarity_minhash(text_2,text_4))\n",
    "print(similarity_minhash(text_3,text_4))"
   ]
  },
  {
   "cell_type": "markdown",
   "metadata": {},
   "source": [
    "# Question 4"
   ]
  },
  {
   "cell_type": "code",
   "execution_count": 6,
   "metadata": {},
   "outputs": [],
   "source": [
    "#import necessary packages\n",
    "\n",
    "import numpy as np # linear algebra\n",
    "import pandas as pd # data processing, CSV file I/O (e.g. pd.read csv)\n",
    "from tqdm import tqdm # make your loops show a smart progress meter\n",
    "import nltk # Natural Language Toolkit\n",
    "import datasketch # Probabilistic data structures for processing and searching very large datasets\n"
   ]
  },
  {
   "cell_type": "code",
   "execution_count": 7,
   "metadata": {},
   "outputs": [
    {
     "data": {
      "text/html": [
       "<div>\n",
       "<style scoped>\n",
       "    .dataframe tbody tr th:only-of-type {\n",
       "        vertical-align: middle;\n",
       "    }\n",
       "\n",
       "    .dataframe tbody tr th {\n",
       "        vertical-align: top;\n",
       "    }\n",
       "\n",
       "    .dataframe thead th {\n",
       "        text-align: right;\n",
       "    }\n",
       "</style>\n",
       "<table border=\"1\" class=\"dataframe\">\n",
       "  <thead>\n",
       "    <tr style=\"text-align: right;\">\n",
       "      <th></th>\n",
       "      <th>id</th>\n",
       "      <th>qid1</th>\n",
       "      <th>qid2</th>\n",
       "      <th>question1</th>\n",
       "      <th>question2</th>\n",
       "      <th>is_duplicate</th>\n",
       "    </tr>\n",
       "  </thead>\n",
       "  <tbody>\n",
       "    <tr>\n",
       "      <th>0</th>\n",
       "      <td>0</td>\n",
       "      <td>1</td>\n",
       "      <td>2</td>\n",
       "      <td>What is the step by step guide to invest in sh...</td>\n",
       "      <td>What is the step by step guide to invest in sh...</td>\n",
       "      <td>0</td>\n",
       "    </tr>\n",
       "    <tr>\n",
       "      <th>1</th>\n",
       "      <td>1</td>\n",
       "      <td>3</td>\n",
       "      <td>4</td>\n",
       "      <td>What is the story of Kohinoor (Koh-i-Noor) Dia...</td>\n",
       "      <td>What would happen if the Indian government sto...</td>\n",
       "      <td>0</td>\n",
       "    </tr>\n",
       "    <tr>\n",
       "      <th>2</th>\n",
       "      <td>2</td>\n",
       "      <td>5</td>\n",
       "      <td>6</td>\n",
       "      <td>How can I increase the speed of my internet co...</td>\n",
       "      <td>How can Internet speed be increased by hacking...</td>\n",
       "      <td>0</td>\n",
       "    </tr>\n",
       "    <tr>\n",
       "      <th>3</th>\n",
       "      <td>3</td>\n",
       "      <td>7</td>\n",
       "      <td>8</td>\n",
       "      <td>Why am I mentally very lonely? How can I solve...</td>\n",
       "      <td>Find the remainder when [math]23^{24}[/math] i...</td>\n",
       "      <td>0</td>\n",
       "    </tr>\n",
       "    <tr>\n",
       "      <th>4</th>\n",
       "      <td>4</td>\n",
       "      <td>9</td>\n",
       "      <td>10</td>\n",
       "      <td>Which one dissolve in water quikly sugar, salt...</td>\n",
       "      <td>Which fish would survive in salt water?</td>\n",
       "      <td>0</td>\n",
       "    </tr>\n",
       "    <tr>\n",
       "      <th>5</th>\n",
       "      <td>5</td>\n",
       "      <td>11</td>\n",
       "      <td>12</td>\n",
       "      <td>Astrology: I am a Capricorn Sun Cap moon and c...</td>\n",
       "      <td>I'm a triple Capricorn (Sun, Moon and ascendan...</td>\n",
       "      <td>1</td>\n",
       "    </tr>\n",
       "    <tr>\n",
       "      <th>6</th>\n",
       "      <td>6</td>\n",
       "      <td>13</td>\n",
       "      <td>14</td>\n",
       "      <td>Should I buy tiago?</td>\n",
       "      <td>What keeps childern active and far from phone ...</td>\n",
       "      <td>0</td>\n",
       "    </tr>\n",
       "    <tr>\n",
       "      <th>7</th>\n",
       "      <td>7</td>\n",
       "      <td>15</td>\n",
       "      <td>16</td>\n",
       "      <td>How can I be a good geologist?</td>\n",
       "      <td>What should I do to be a great geologist?</td>\n",
       "      <td>1</td>\n",
       "    </tr>\n",
       "    <tr>\n",
       "      <th>8</th>\n",
       "      <td>8</td>\n",
       "      <td>17</td>\n",
       "      <td>18</td>\n",
       "      <td>When do you use シ instead of し?</td>\n",
       "      <td>When do you use \"&amp;\" instead of \"and\"?</td>\n",
       "      <td>0</td>\n",
       "    </tr>\n",
       "    <tr>\n",
       "      <th>9</th>\n",
       "      <td>9</td>\n",
       "      <td>19</td>\n",
       "      <td>20</td>\n",
       "      <td>Motorola (company): Can I hack my Charter Moto...</td>\n",
       "      <td>How do I hack Motorola DCX3400 for free internet?</td>\n",
       "      <td>0</td>\n",
       "    </tr>\n",
       "  </tbody>\n",
       "</table>\n",
       "</div>"
      ],
      "text/plain": [
       "   id  qid1  qid2                                          question1  \\\n",
       "0   0     1     2  What is the step by step guide to invest in sh...   \n",
       "1   1     3     4  What is the story of Kohinoor (Koh-i-Noor) Dia...   \n",
       "2   2     5     6  How can I increase the speed of my internet co...   \n",
       "3   3     7     8  Why am I mentally very lonely? How can I solve...   \n",
       "4   4     9    10  Which one dissolve in water quikly sugar, salt...   \n",
       "5   5    11    12  Astrology: I am a Capricorn Sun Cap moon and c...   \n",
       "6   6    13    14                                Should I buy tiago?   \n",
       "7   7    15    16                     How can I be a good geologist?   \n",
       "8   8    17    18                    When do you use シ instead of し?   \n",
       "9   9    19    20  Motorola (company): Can I hack my Charter Moto...   \n",
       "\n",
       "                                           question2  is_duplicate  \n",
       "0  What is the step by step guide to invest in sh...             0  \n",
       "1  What would happen if the Indian government sto...             0  \n",
       "2  How can Internet speed be increased by hacking...             0  \n",
       "3  Find the remainder when [math]23^{24}[/math] i...             0  \n",
       "4            Which fish would survive in salt water?             0  \n",
       "5  I'm a triple Capricorn (Sun, Moon and ascendan...             1  \n",
       "6  What keeps childern active and far from phone ...             0  \n",
       "7          What should I do to be a great geologist?             1  \n",
       "8              When do you use \"&\" instead of \"and\"?             0  \n",
       "9  How do I hack Motorola DCX3400 for free internet?             0  "
      ]
     },
     "execution_count": 7,
     "metadata": {},
     "output_type": "execute_result"
    }
   ],
   "source": [
    "#2.Extract the data from “train.csv” to the DataFrame qa_pairs and take a look on it.\n",
    "\n",
    "data = './train.csv'\n",
    "\n",
    "qa_pairs = pd.read_csv(data)\n",
    "\n",
    "qa_pairs.head(10)"
   ]
  },
  {
   "cell_type": "code",
   "execution_count": 8,
   "metadata": {},
   "outputs": [
    {
     "data": {
      "text/plain": [
       "173    With a forgotten Gmail password, how do you fi...\n",
       "113                   What should I do to enjoy my life?\n",
       "166    Under what circumstances would the production ...\n",
       "152                 How can I get more views on YouTube?\n",
       "88     How can I prepare best to get into an internat...\n",
       "dtype: object"
      ]
     },
     "execution_count": 8,
     "metadata": {},
     "output_type": "execute_result"
    }
   ],
   "source": [
    "#take 100 qa_pairs which are duplicate and another 100 not duolicate\n",
    "sents_pairs = pd.concat([\n",
    "    qa_pairs[qa_pairs['is_duplicate'] == 0].sample(100, random_state=42),\n",
    "    qa_pairs[qa_pairs['is_duplicate'] == 1].sample(100, random_state=42)\n",
    "]).reset_index(drop=True)\n",
    "\n",
    "# shuffle randomly\n",
    "sents_pairs = sents_pairs.sample(frac=1.)\n",
    "\n",
    "#create a new DataFrame accordingly and show\n",
    "sents = pd.concat([sents_pairs['question1'], sents_pairs['question2']])\n",
    "sents.head()"
   ]
  },
  {
   "cell_type": "code",
   "execution_count": 9,
   "metadata": {},
   "outputs": [
    {
     "name": "stderr",
     "output_type": "stream",
     "text": [
      "[nltk_data] Downloading package stopwords to\n",
      "[nltk_data]     /Users/zhengwan/nltk_data...\n",
      "[nltk_data]   Package stopwords is already up-to-date!\n"
     ]
    }
   ],
   "source": [
    "#Download ‘stopwords’ from nltk package\n",
    "nltk.download('stopwords')\n",
    "from nltk.corpus import stopwords\n",
    "stop_words = set(stopwords.words('english'))"
   ]
  },
  {
   "cell_type": "code",
   "execution_count": 10,
   "metadata": {},
   "outputs": [],
   "source": [
    "#Create ‘set_dict’ dictionary which maps question id (eg ‘m23’) to set representation of question.\n",
    "\n",
    "set_dict = {}\n",
    "\n",
    "for index, row in qa_pairs.iterrows():\n",
    "    set_dict[row['id']] = (row['question1'], row['question2'])\n",
    "\n"
   ]
  },
  {
   "cell_type": "code",
   "execution_count": 11,
   "metadata": {},
   "outputs": [
    {
     "name": "stdout",
     "output_type": "stream",
     "text": [
      "0 : ('What is the step by step guide to invest in share market in india?', 'What is the step by step guide to invest in share market?')\n",
      "1 : ('What is the story of Kohinoor (Koh-i-Noor) Diamond?', 'What would happen if the Indian government stole the Kohinoor (Koh-i-Noor) diamond back?')\n",
      "2 : ('How can I increase the speed of my internet connection while using a VPN?', 'How can Internet speed be increased by hacking through DNS?')\n",
      "3 : ('Why am I mentally very lonely? How can I solve it?', 'Find the remainder when [math]23^{24}[/math] is divided by 24,23?')\n",
      "4 : ('Which one dissolve in water quikly sugar, salt, methane and carbon di oxide?', 'Which fish would survive in salt water?')\n",
      "5 : ('Astrology: I am a Capricorn Sun Cap moon and cap rising...what does that say about me?', \"I'm a triple Capricorn (Sun, Moon and ascendant in Capricorn) What does this say about me?\")\n",
      "6 : ('Should I buy tiago?', 'What keeps childern active and far from phone and video games?')\n",
      "7 : ('How can I be a good geologist?', 'What should I do to be a great geologist?')\n",
      "8 : ('When do you use シ instead of し?', 'When do you use \"&\" instead of \"and\"?')\n",
      "9 : ('Motorola (company): Can I hack my Charter Motorolla DCX3400?', 'How do I hack Motorola DCX3400 for free internet?')\n"
     ]
    }
   ],
   "source": [
    "# print first 10 key,values\n",
    "for key, value in list(set_dict.items())[:10]:\n",
    "    print(key, \":\", value)\n"
   ]
  },
  {
   "cell_type": "code",
   "execution_count": 12,
   "metadata": {},
   "outputs": [
    {
     "data": {
      "text/plain": [
       "404290"
      ]
     },
     "execution_count": 12,
     "metadata": {},
     "output_type": "execute_result"
    }
   ],
   "source": [
    "len(set_dict)"
   ]
  },
  {
   "cell_type": "code",
   "execution_count": 13,
   "metadata": {},
   "outputs": [
    {
     "name": "stdout",
     "output_type": "stream",
     "text": [
      "1 : What is the step by step guide to invest in share market in india?\n",
      "2 : What is the step by step guide to invest in share market?\n",
      "3 : What is the story of Kohinoor (Koh-i-Noor) Diamond?\n",
      "4 : What would happen if the Indian government stole the Kohinoor (Koh-i-Noor) diamond back?\n",
      "5 : How can I increase the speed of my internet connection while using a VPN?\n"
     ]
    }
   ],
   "source": [
    "norm_dict = {}\n",
    "\n",
    "for index, row in qa_pairs.iterrows():\n",
    "    norm_dict[row['qid1']] = (row['question1'])\n",
    "    norm_dict[row['qid2']] = (row['question2'])\n",
    "\n",
    "# print first 10 key,values\n",
    "for key, value in list(norm_dict.items())[:5]:\n",
    "    print(key, \":\", value)"
   ]
  },
  {
   "cell_type": "code",
   "execution_count": 14,
   "metadata": {},
   "outputs": [],
   "source": [
    "import string\n",
    "\n",
    "for key, (sentence1, sentence2) in set_dict.items():\n",
    "    # convert sentences into str and make them lowercase\n",
    "    sentence1 = str(sentence1).lower()\n",
    "    sentence2 = str(sentence2).lower()\n",
    "\n",
    "    # remove punctuation\n",
    "    translator = str.maketrans('', '', string.punctuation)\n",
    "    sentence1 = sentence1.translate(translator)\n",
    "    sentence2 = sentence2.translate(translator)\n",
    "\n",
    "    filtered_sentence1 = shingles(' '.join([word for word in sentence1.split() if word.lower() not in stop_words]))\n",
    "    filtered_sentence2 = shingles(' '.join([word for word in sentence2.split() if word.lower() not in stop_words]))\n",
    "\n",
    "    set_dict[key] = (filtered_sentence1, filtered_sentence2)"
   ]
  },
  {
   "cell_type": "code",
   "execution_count": 15,
   "metadata": {},
   "outputs": [
    {
     "name": "stdout",
     "output_type": "stream",
     "text": [
      "0 : ({' st', 'nve', 'st ', 'ide', 'et ', 're ', 'ndi', 'ind', 'inv', 'ves', ' in', 'dia', 'gui', ' ma', 'p s', 'har', 't s', 'uid', 't i', 'rke', ' sh', 'ep ', 'est', 'sha', 'de ', 'ark', 'tep', 'mar', ' gu', 'ste', 'e i', 'p g', 'e m', 'ket', 'are'}, {' st', 'nve', 'st ', 'ide', 're ', 'inv', 'ves', ' in', 'gui', ' ma', 'p s', 'har', 't s', 'uid', 'rke', ' sh', 'ep ', 'est', 'sha', 'de ', 'ark', 'tep', 'mar', ' gu', 'ste', 'e i', 'p g', 'e m', 'ket', 'are'})\n",
      "1 : ({'tor', 'ory', 'ond', 'koh', 'ino', 'r k', 'sto', 'dia', 'iam', 'hin', 'amo', 'or ', 'r d', 'y k', 'oor', 'ry ', 'mon', 'ohi', ' di', ' ko', 'noo'}, {'an ', ' ba', 'ond', ' st', 'nd ', 'ent', 'wou', 'n i', 'ndi', 'e k', 'koh', 'ind', 'ino', 'gov', 'r k', 'sto', ' in', 'ack', 'ove', 'dia', 'app', 'bac', 'hap', 'd b', 'ppe', 't s', 'uld', 'iam', 'nme', 'hin', 'ian', 'ld ', 'nt ', 'amo', 'n g', 'ole', 'tol', 'ver', 'or ', 'r d', 'men', 'd h', ' go', 'en ', 'oor', 'ern', 'rnm', 'pen', 'le ', ' ha', 'mon', 'ohi', ' di', 'oul', ' ko', 'noo'})\n"
     ]
    }
   ],
   "source": [
    "for key, value in list(set_dict.items())[:2]:\n",
    "    print(key, \":\", value)"
   ]
  },
  {
   "cell_type": "code",
   "execution_count": 16,
   "metadata": {},
   "outputs": [
    {
     "data": {
      "text/plain": [
       "[' st', 'nve', 'st ', 'ide']"
      ]
     },
     "execution_count": 16,
     "metadata": {},
     "output_type": "execute_result"
    }
   ],
   "source": [
    "def flatten_set(s):\n",
    "    result = []\n",
    "    for item in s:\n",
    "        if isinstance(item, set):\n",
    "            result.extend(flatten_set(item))\n",
    "        else:\n",
    "            result.append(item)\n",
    "    return result\n",
    "\n",
    "hashset = []\n",
    "\n",
    "for key, value in set_dict.items():\n",
    "    hashset.extend(flatten_set(value))\n",
    "\n",
    "hashset[:4]\n"
   ]
  },
  {
   "cell_type": "markdown",
   "metadata": {},
   "source": [
    "### Create minHash signatures"
   ]
  },
  {
   "cell_type": "code",
   "execution_count": 19,
   "metadata": {},
   "outputs": [
    {
     "ename": "KeyError",
     "evalue": "'0'",
     "output_type": "error",
     "traceback": [
      "\u001b[0;31m---------------------------------------------------------------------------\u001b[0m",
      "\u001b[0;31mKeyError\u001b[0m                                  Traceback (most recent call last)",
      "Cell \u001b[0;32mIn [19], line 20\u001b[0m\n\u001b[1;32m     17\u001b[0m             \u001b[38;5;28;01mpass\u001b[39;00m\n\u001b[1;32m     18\u001b[0m min_dict[\u001b[38;5;28mid\u001b[39m] \u001b[38;5;241m=\u001b[39m m\n\u001b[0;32m---> 20\u001b[0m \u001b[38;5;28mprint\u001b[39m(min_dict[\u001b[38;5;124m\"\u001b[39m\u001b[38;5;124m0\u001b[39m\u001b[38;5;124m\"\u001b[39m])\n",
      "\u001b[0;31mKeyError\u001b[0m: '0'"
     ]
    }
   ],
   "source": [
    "from datasketch import MinHash\n",
    "#I Chose a lower permutation number because the computer doesn't have enough power.\n",
    "num_perm = 128\n",
    "#set_dict is my shingled set\n",
    "\n",
    "#store MinHash signatures\n",
    "min_dict = {}\n",
    "\n",
    "#Loop through all the set representations of questions and calculate the signatures and store them in the ‘min dict’ dictionary.\n",
    "for id, shingled_sentences in set_dict.items():\n",
    "    m = MinHash(num_perm = num_perm)\n",
    "    for word in shingled_sentences:\n",
    "        if isinstance(word, str):\n",
    "            m.update(word.encode('utf8'))\n",
    "        else:\n",
    "            # Handle non-string elements if needed\n",
    "            pass\n",
    "min_dict[id] = m\n",
    "\n",
    "print(min_dict[\"0\"])"
   ]
  }
 ],
 "metadata": {
  "kernelspec": {
   "display_name": "Python 3 (ipykernel)",
   "language": "python",
   "name": "python3"
  },
  "language_info": {
   "codemirror_mode": {
    "name": "ipython",
    "version": 3
   },
   "file_extension": ".py",
   "mimetype": "text/x-python",
   "name": "python",
   "nbconvert_exporter": "python",
   "pygments_lexer": "ipython3",
   "version": "3.8.5"
  },
  "vscode": {
   "interpreter": {
    "hash": "fd75362e27048f1ead3b65beb4812b1da3d387150557ce53b099093c32022a5e"
   }
  }
 },
 "nbformat": 4,
 "nbformat_minor": 2
}
